{
  "nbformat": 4,
  "nbformat_minor": 0,
  "metadata": {
    "colab": {
      "name": "TP1_FundamentosDePython.ipynb",
      "provenance": [],
      "collapsed_sections": [],
      "authorship_tag": "ABX9TyNJ+Z3pNBbOi4BEMxOtjGCo",
      "include_colab_link": true
    },
    "kernelspec": {
      "display_name": "Python 3",
      "name": "python3"
    }
  },
  "cells": [
    {
      "cell_type": "markdown",
      "metadata": {
        "id": "view-in-github",
        "colab_type": "text"
      },
      "source": [
        "<a href=\"https://colab.research.google.com/github/Nizshime-Samara/Desafios_De_Pratica_em_Python/blob/main/TP1_FundamentosDePython.ipynb\" target=\"_parent\"><img src=\"https://colab.research.google.com/assets/colab-badge.svg\" alt=\"Open In Colab\"/></a>"
      ]
    },
    {
      "cell_type": "markdown",
      "metadata": {
        "id": "zHY6K1fJ0hNx"
      },
      "source": [
        "1. Escreva uma função em Python que some todos os números ímpares de 1 até um dado N, inclusive. O número N deve ser obtido do usuário. Ao final, escreva o valor do resultado desta soma."
      ]
    },
    {
      "cell_type": "code",
      "metadata": {
        "id": "ebTX-hT80h3X",
        "colab": {
          "base_uri": "https://localhost:8080/"
        },
        "outputId": "ebd6ae10-9da2-4aca-d024-c4b3ebbbf603"
      },
      "source": [
        "\r\n",
        "#List Comprehension, para realizar a implementação do código em uma linha\r\n",
        "# a estrutura do laço for foi guardado entre colchetes indicando que se trata de uma lista/array com valor minimo e maximo(input), usando o metodo range entre (1, e o input dado) que conta as casas de dois em dois itens, ou seja será o mesmo que pegar todos os numeros modulares de resto 1 (ímpares)\r\n",
        "# conforme : [c for c in range(1, int(input('Digite um número: ')) + 1, 2)], \r\n",
        "#em seguida foi passado um novo [], para indicar a saida formatada do array/lista: [::1]\r\n",
        "# desta maneira , pude guardar este array originado de um laço for que finaliza no input (n , conforme enunciado que é o numero dado pelo usuario) , em uma variável para que pudesse usar metodo sum para os valores internos de cada posição, e retornar o valor total.\r\n",
        "\r\n",
        "def print_lista():\r\n",
        "  lista = [c for c in range(1, int(input('Digite um número maior que 1: ')) + 1, 2)][::1] \r\n",
        "  print(lista) \r\n",
        "  soma_itens=sum(lista)\r\n",
        "  print(soma_itens)\r\n",
        "\r\n",
        "print_lista()"
      ],
      "execution_count": null,
      "outputs": [
        {
          "output_type": "stream",
          "text": [
            "Digite um número: 20\n",
            "[1, 3, 5, 7, 9, 11, 13, 15, 17, 19]\n",
            "100\n"
          ],
          "name": "stdout"
        }
      ]
    },
    {
      "cell_type": "markdown",
      "metadata": {
        "id": "hFEF-eYo1gIA"
      },
      "source": [
        "2. Faça uma função em Python que receba do usuário a idade de uma pessoa em anos, meses e dias e retorne essa idade expressa em dias. Considere que todos os anos têm 365 dias."
      ]
    },
    {
      "cell_type": "code",
      "metadata": {
        "colab": {
          "base_uri": "https://localhost:8080/"
        },
        "id": "kvsiTLGW1nu-",
        "outputId": "d87decab-8cf8-4504-b862-b4b5553ff1d6"
      },
      "source": [
        "def dia_no_ano(dia, mes, ano):\r\n",
        "  numero_de_dias = dia\r\n",
        "  contador_meses = 1\r\n",
        "  while contador_meses < mes:\r\n",
        "    if contador_meses in (1, 3, 5, 7, 8, 10, 12):\r\n",
        "      numero_de_dias += 31\r\n",
        "    elif contador_meses in (4, 6, 9, 11):\r\n",
        "      numero_de_dias += 30\r\n",
        "    elif contador_meses == 2:\r\n",
        "      numero_de_dias += 28\r\n",
        "    contador_meses += 1\r\n",
        "  return numero_de_dias\r\n",
        "\r\n",
        "def bissexto(ano):\r\n",
        "  return ano % 4 == 0 and (ano % 100 != 0 or ano % 400 == 0)\r\n",
        "\r\n",
        "def validar_data(dia, mes, ano):\r\n",
        "  if dia < 1 or dia > 31 or mes < 1 or mes > 12 or ano < 1583:\r\n",
        "    return False\r\n",
        "  if mes in (4, 6, 9, 11) and dia == 31:\r\n",
        "    return False\r\n",
        "  if mes == 2 and dia >= 30:\r\n",
        "    return False\r\n",
        "  if mes == 2 and dia == 29 and not bissexto(ano):\r\n",
        "    return False\r\n",
        "  return True\r\n",
        "\r\n",
        "def diferenca_data(data1, data2):\r\n",
        "\r\n",
        "  # trata os inputs e valida.\r\n",
        "  try:\r\n",
        "    dia1, mes1, ano1 = [int(datando) for datando in data1.split(\"/\")]\r\n",
        "  except ValueError:\r\n",
        "    raise ValueError('Data inválida: ' + data1)\r\n",
        "\r\n",
        "  try:\r\n",
        "    dia2, mes2, ano2 = [int(datador) for datador in data2.split(\"/\")]\r\n",
        "  except ValueError:\r\n",
        "    raise ValueError('Data inválida: ' + data2)\r\n",
        "\r\n",
        "  # Verifica se os inputs são válidos (calendário gregoriano no ano 1582, a contagem está para a partir de datas de acima de 1400 ), uso do metodo raise foi pesquisado \r\n",
        "  #pois como o tratamento de erro esta dentro de uma função, foi necessário o uso deste método https://dcc.ufrj.br/~jonathan/python/docs/Excecoes%20em%20Python.pdf :\r\n",
        "  if not validar_data(dia1, mes1, ano1):\r\n",
        "    raise ValueError('Data inválida insira uma data depois de 1501/01/1583: ' + data1)\r\n",
        "  if not validar_data(dia2, mes2, ano2):\r\n",
        "    raise ValueError('Data inválida insira uma data depois de 01/01/1583: ' + data2) \r\n",
        "\r\n",
        "  # Inverte as datas se a data2 anteceder a data1.\r\n",
        "  if ano2 < ano1 or (ano2 == ano1 and (mes2 < mes1 or (mes2 == mes1 and dia2 < dia1))):\r\n",
        "    return -diferenca_data(data2, data1)\r\n",
        "\r\n",
        "  dias_ano1 = dia_no_ano(dia1, mes1, ano1)\r\n",
        "  dias_ano2 = dia_no_ano(dia2, mes2, ano2)\r\n",
        "\r\n",
        "  total = dias_ano2 - dias_ano1 + (ano2 - ano1) * 365\r\n",
        "\r\n",
        "  # Considera anos começando em 01/03 para correção dos  bissextos.\r\n",
        "  ano1b = ano1\r\n",
        "  if mes1 < 3:\r\n",
        "    ano1b -= 1\r\n",
        "\r\n",
        "  ano2b = ano2\r\n",
        "  if mes2 < 3:\r\n",
        "    ano2b -= 1\r\n",
        "\r\n",
        "  # Soma os dias dos bissextos divisíveis por 4 que ocorrem entre ano1b e ano2b anos de contagem diferente.\r\n",
        "  total += int(ano2b / 4) - int(ano1b / 4)\r\n",
        "\r\n",
        "  #  total -= int(ano2b / 100) - int(ano1b / 100) subtrai os dias dos anos bissextos que não existiram na etapa anterior. São os divisíveis por 100 e \r\n",
        "  #  total += int(ano2b / 400) - int(ano1b / 400)*-1 o output irá retornar um inteiro positivo com o cáculo básico *-1 que soma de volta os dias dos anos bissextos divisíveis por 400, que foram removidos a mais na etapa anterior pois possuíam 366 dias. \r\n",
        "  # garante que o codigo calcule os dias corretamente dentro do calendario gregoriano contando sem excluir  quem nasceria hipotetivamente de 1583 em diante.\r\n",
        "  total -= int(ano2b / 100) - int(ano1b / 100)\r\n",
        "  total += int(ano2b / 400) - int(ano1b / 400)*-1 \r\n",
        "\r\n",
        "  # Resultado da função.\r\n",
        "  return total\r\n",
        "\r\n",
        "\r\n",
        "data_nascimento = input('Insira a data de nascimento em formato dd/mm/aaaa : ')\r\n",
        "data_de_hoje = input('Insira a data do dia de hoje em formato dd/mm/aaaa, para calcular o dias entre as datas: ')\r\n",
        "\r\n",
        "\r\n",
        "diferenca =print(\"Os dias contados foram {}, que venham muitos outros!\".format( diferenca_data(data_nascimento, data_de_hoje)))\r\n"
      ],
      "execution_count": null,
      "outputs": [
        {
          "output_type": "stream",
          "text": [
            "Insira a data de nascimento em formato dd/mm/aaaa : 19/10/1988\n",
            "Insira a data do dia de hoje em formato dd/mm/aaaa, para calcular o dias entre as datas: 24/02/2021\n",
            "Os dias contados foram 11824, que venham muitos outros!\n"
          ],
          "name": "stdout"
        }
      ]
    },
    {
      "cell_type": "markdown",
      "metadata": {
        "id": "LLQnY1OF1rhb"
      },
      "source": [
        "3. Escreva uma função em Python que calcule o fatorial de um dado número N usando um for. O fatorial de N=0 é um. O fatorial de N é (para N > 0): N x (N-1) x (N-2) x … x 3 x 2 x 1. Por exemplo, para N=5 o fatorial é: 5 x 4 x 3 x 2 x 1 = 120. Se N for negativo, exiba uma mensagem indicando que não é possível calcular seu fatorial."
      ]
    },
    {
      "cell_type": "code",
      "metadata": {
        "colab": {
          "base_uri": "https://localhost:8080/"
        },
        "id": "bSWmuo6L1u1a",
        "outputId": "7c007884-7062-4c1f-a26a-1b67ac3cdb01"
      },
      "source": [
        "n= int(input('Insira um numero para descobrir seu fatorial : '))\r\n",
        "def fatorial(n):\r\n",
        "  fat = 1\r\n",
        "  for cont in range(n,0, -1):\r\n",
        "    fat*=cont\r\n",
        "  return fat\r\n",
        "      \r\n",
        "if n>=0:\r\n",
        "  fatorial(n)\r\n",
        "  print(\"O fatorial de {} é {}\".format( n, fatorial(n)))\r\n",
        "else:\r\n",
        "  print(\" não é possível calcular seu fatorial\")\r\n"
      ],
      "execution_count": null,
      "outputs": [
        {
          "output_type": "stream",
          "text": [
            "Insira um numero para descobrir seu fatorial : -1\n",
            " não é possível calcular seu fatorial\n"
          ],
          "name": "stdout"
        }
      ]
    },
    {
      "cell_type": "markdown",
      "metadata": {
        "id": "eqG01BcR1w59"
      },
      "source": [
        "4. Escreva um programa em Python que calcule o fatorial de um dado número N usando um while. Use as mesmas especificações do item anterior."
      ]
    },
    {
      "cell_type": "code",
      "metadata": {
        "colab": {
          "base_uri": "https://localhost:8080/"
        },
        "id": "ane82DYo1zVF",
        "outputId": "04601130-7051-4a9a-fda8-024aa12879b3"
      },
      "source": [
        "n= int(input('Insira um numero para descobrir seu fatorial : '))\r\n",
        "def fatorial(n):\r\n",
        "  fat=1\r\n",
        "  while n>1:\r\n",
        "    fat *= n\r\n",
        "    n-=1\r\n",
        "  return fat\r\n",
        "def fatorial_n(n): \r\n",
        "    if n>=0:\r\n",
        "      fatorial(n)\r\n",
        "      print(\"O fatorial de {} é {}\".format( n, fatorial(n)))\r\n",
        "    else:\r\n",
        "      print(\" não é possível calcular seu fatorial\")     \r\n",
        "      \r\n",
        "fatorial_n(n)       "
      ],
      "execution_count": null,
      "outputs": [
        {
          "output_type": "stream",
          "text": [
            "Insira um numero para descobrir seu fatorial : 10\n",
            "O fatorial de 10 é 3628800\n"
          ],
          "name": "stdout"
        }
      ]
    },
    {
      "cell_type": "markdown",
      "metadata": {
        "id": "_taqopOU10NG"
      },
      "source": [
        "5. Trabalhar com tuplas é muito importante! Crie 4 funções nas quais:\r\n",
        "\r\n",
        "    Dada uma tupla e um elemento, verifique se o elemento existe na tupla e retorne o indice do mesmo\r\n",
        "\r\n",
        "    Dada uma tupla, retorne 2 tuplas onde cada uma representa uma metade da tupla original.\r\n",
        "\r\n",
        "    Dada uma tupla e um elemento, elimine esse elemento da tupla.\r\n",
        "\r\n",
        "    Dada uma tupla, retorne uma nova tupla com todos os elementos invertidos."
      ]
    },
    {
      "cell_type": "code",
      "metadata": {
        "colab": {
          "base_uri": "https://localhost:8080/"
        },
        "id": "5VpVtn82168b",
        "outputId": "1b674e06-c3c6-46e0-d4d4-77e320086938"
      },
      "source": [
        " #Dada uma tupla e um elemento, verifique se o elemento existe na tupla e retorne o indice do mesmo\r\n",
        " print('\\n A) Dada uma tupla e um elemento, verifique se o elemento existe na tupla e retorne o indice do mesmo.\\n')\r\n",
        " tupla1=('Eu', 'Tu','Ele','Nós','Vós','Eles','eu','tu','ele','nós','vós','eles', 'Eu','Tu','Ele','Nós','Vós','Eles')\r\n",
        " n1 = input('informe um pronome para verificar se pertence ao grupo de pronomes pessoais: ')\r\n",
        " def encontrador(n1):\r\n",
        "   if n1 in tupla1:\r\n",
        "     print(f'O pronome \" {n1} \" existe no grupo de pronomes pessoais.') \r\n",
        "   else:\r\n",
        "     print(\"informação inexistente na lista de pronomes pessoais\")\r\n",
        "encontrador(n1)\r\n",
        "print('---'*40)\r\n",
        "print('\\n')\r\n",
        "\r\n",
        "\r\n",
        "#Dada uma tupla, retorne 2 tuplas onde cada uma representa uma metade da tupla original.\r\n",
        "\r\n",
        "print('\\n B) Dada uma tupla, retorne 2 tuplas onde cada uma representa uma metade da tupla original.\\n')\r\n",
        "tupla_menu=('bife','hamburguer','batata-frita','pão-de-queijo','macarrão','sorvete','pudim','bolo','torta','frutas')\r\n",
        "opcao = input('Digite \"comidas\" ou \"sobremesas\" para ver a lista de opções no menu: ')\r\n",
        "tupla_sobremesas = tupla_menu[-5:]\r\n",
        "tupla_comidas = tupla_menu[0:5]\r\n",
        "print('---'*40)\r\n",
        "print(f' O conjunto total de alimentos contidos no menu são : \\n {tupla_menu} \\n')\r\n",
        "print('---'*40)\r\n",
        "def fatiador(opcao, tupla_comidas,tupla_sobremesas):\r\n",
        "  if opcao == 'comidas':\r\n",
        "    tupla_comidas \r\n",
        "    print(f'As comidas são: \\n {tuple(tupla_comidas)}\\n')\r\n",
        "  elif opcao =='sobremesas':\r\n",
        "    tupla_sobremesas\r\n",
        "    print(f'As sobremesas são: \\n {tuple(tupla_sobremesas)}\\n')\r\n",
        "  else:\r\n",
        "   print(f'Digite \"comidas\" ou \"sobremesas\" para listar as comidas ou sobremesas do menu a seguir: \\n {tupla_menu}\\n')\r\n",
        "\r\n",
        "fatiador(opcao,tupla_comidas,tupla_sobremesas)\r\n",
        "print('---'*30)\r\n",
        "print(f'As sobremesas contidas no conjunto alimentos é o conjunto: \\n {tupla_sobremesas} \\n')\r\n",
        "print(f'As comidas contidas no conjunto alimentos é o conjunto: \\n {tupla_comidas} \\n')\r\n",
        "print('---'*30)\r\n",
        "print('\\n')\r\n",
        "\r\n",
        "#Dada uma tupla e um elemento, elimine esse elemento da tupla.\r\n",
        "#tuplas são imutáveis , transfomarei em lista para eliminiar o elemento sem precisar realizar o fatiamento da tupla, retornando uma \r\n",
        "#nova tupla contendo os mesmos elemantos da tupla transformada em lista que teve o elemento indicado pelo input do usuario removido pelo metodo remove()\r\n",
        "print('\\n C) Dada uma tupla e um elemento, elimine esse elemento da tupla.\\n')\r\n",
        "\r\n",
        "tupla=('1','2','3','4','5','6','7','8','9') \r\n",
        "print(f'Sequencia de numeros de 1 até 9: {tupla}')\r\n",
        "n = input('informe um digito entre e incluindo 1 e 9 para remover da lista: ')\r\n",
        " def apagador(n):\r\n",
        "  lista = list(tupla)\r\n",
        "  lista.remove(n)\r\n",
        "  tupla2 = tuple(lista)\r\n",
        "  print(f'A nova lista de numeros sem o item {n} formou : {tupla2}')\r\n",
        "apagador(n)\r\n",
        "print('---'*40)\r\n",
        "print('\\n')\r\n",
        "\r\n",
        "#Dada uma tupla, retorne uma nova tupla com todos os elementos invertidos. \r\n",
        "print('\\n D) Dada uma tupla, retorne uma nova tupla com todos os elementos invertidos.\\n')\r\n",
        "palindromos = ('reviver','reger','rir','radar','osso','mirim','aia')\r\n",
        "print(f'Exemplos de palíndormos: {palindromos}')\r\n",
        "tuplaA = input('Insira um dos palindromos de exemplo ou outro qualquer que vocë conheça e caso queira testar o codigo, insira qualquer outra palavra: ')\r\n",
        "def reverte(tuplaA):\r\n",
        "  tuplaB = reversed(tuplaA)\r\n",
        "  print('As letras da palavra quando revertidas são: ')\r\n",
        "  print(tuple(tuplaB))\r\n",
        "\r\n",
        "reverte(tuplaA)\r\n",
        "print('---'*40)\r\n",
        "print('\\n')\r\n",
        "\r\n"
      ],
      "execution_count": null,
      "outputs": [
        {
          "output_type": "stream",
          "text": [
            "\n",
            " A) Dada uma tupla e um elemento, verifique se o elemento existe na tupla e retorne o indice do mesmo.\n",
            "\n",
            "informe um pronome para verificar se pertence ao grupo de pronomes pessoais: eu \n",
            "informação inexistente na lista de pronomes pessoais\n",
            "##############################\n",
            "\n",
            " B) Dada uma tupla, retorne 2 tuplas onde cada uma representa uma metade da tupla original.\n",
            "\n",
            "Digite \"comidas\" ou \"sobremesas\" para ver a lista de opções no menu: comidas\n",
            "------------------------------------------------------------------------------------------------------------------------\n",
            " O conjunto total de alimentos contidos no menu são : \n",
            " ('bife', 'hamburguer', 'batata-frita', 'pão-de-queijo', 'macarrão', 'sorvete', 'pudim', 'bolo', 'torta', 'frutas') \n",
            "\n",
            "------------------------------------------------------------------------------------------------------------------------\n",
            "As comidas são: \n",
            " ('bife', 'hamburguer', 'batata-frita', 'pão-de-queijo', 'macarrão')\n",
            "\n",
            "------------------------------------------------------------------------------------------\n",
            "As sobremesas contidas no conjunto alimentos é o conjunto: \n",
            " ('sorvete', 'pudim', 'bolo', 'torta', 'frutas') \n",
            "\n",
            "As comidas contidas no conjunto alimentos é o conjunto: \n",
            " ('bife', 'hamburguer', 'batata-frita', 'pão-de-queijo', 'macarrão') \n",
            "\n",
            "------------------------------------------------------------------------------------------\n",
            "##############################\n",
            "\n",
            " C) Dada uma tupla e um elemento, elimine esse elemento da tupla.\n",
            "\n",
            "Sequencia de numeros de 1 até 9: ('1', '2', '3', '4', '5', '6', '7', '8', '9')\n",
            "informe um digito entre e incluindo 1 e 9 para remover da lista: 7\n"
          ],
          "name": "stdout"
        }
      ]
    },
    {
      "cell_type": "markdown",
      "metadata": {
        "id": "nctEh4SL19LE"
      },
      "source": [
        "6. Escreva um programa em Python que receba três valores reais X, Y e Z, guarde esses valores numa tupla e verifique se esses valores podem ser os comprimentos dos lados de um triângulo e, neste caso, retorne qual o tipo de triângulo formado. Para que X, Y e Z formem um triângulo é necessário que a seguinte propriedade seja satisfeita: o comprimento de cada lado de um triângulo deve ser menor do que a soma do comprimento dos outros dois lados. Além disso, o programa deve identificar o tipo de triângulo formado observando as seguintes definições:\r\n",
        "\r\n",
        "    Triângulo Equilátero: os comprimentos dos três lados são iguais.\r\n",
        "\r\n",
        "    Triângulo Isósceles: os comprimentos de dois lados são iguais.\r\n",
        "\r\n",
        "    Triângulo Escaleno: os comprimentos dos três lados são diferentes."
      ]
    },
    {
      "cell_type": "code",
      "metadata": {
        "colab": {
          "base_uri": "https://localhost:8080/"
        },
        "id": "aI8laTjT2D75",
        "outputId": "1df5a5e0-1797-43b1-e0fc-83881ad53f4c"
      },
      "source": [
        "lado1 = int(input('Lado 1 : '))\r\n",
        "lado2 = int(input('Lado 2 : '))\r\n",
        "lado3 = int(input('Lado 3 : '))\r\n",
        "\r\n",
        "def define_equilatero(lado1,lado2,lado3):\r\n",
        "  equilatero = lado1 == lado2 == lado3\r\n",
        "  return equilatero\r\n",
        "\r\n",
        "def define_isosceles(lado1,lado2,lado3):\r\n",
        "  isosceles =  lado1 == lado2 or lado2 == lado3 or lado1==lado3\r\n",
        "  return isosceles\r\n",
        "\r\n",
        "def triangulos(lado1, lado2,lado3):\r\n",
        "  somaLado2Lado3 = lado2+lado3\r\n",
        "  somaLado1Lado3 = lado1+lado3\r\n",
        "  somaLado1Lado2 = lado1+lado2\r\n",
        "  if lado1 > somaLado2Lado3 or lado2 > somaLado1Lado3 or lado3 > somaLado1Lado2:\r\n",
        "    print('não é um triângulo')\r\n",
        "  elif define_equilatero(lado1,lado2,lado3):\r\n",
        "    print('Equilátero, os comprimentos dos três lados são iguais.')\r\n",
        "  elif define_isosceles(lado1,lado2,lado3):\r\n",
        "    print('Isósceles, os comprimentos de dois lados são iguais.')\r\n",
        "  else:\r\n",
        "    print('Escaleno, os comprimentos dos três lados são diferentes.')\r\n",
        "\r\n",
        "triangulos(lado1,lado2,lado3)"
      ],
      "execution_count": null,
      "outputs": [
        {
          "output_type": "stream",
          "text": [
            "Lado 1 : 10\n",
            "Lado 2 : 20\n",
            "Lado 3 : 10\n",
            "Isósceles, os comprimentos de dois lados são iguais.\n"
          ],
          "name": "stdout"
        }
      ]
    },
    {
      "cell_type": "markdown",
      "metadata": {
        "id": "kMZfO6oA2E0y"
      },
      "source": [
        " 7. Escreva uma função que receba uma string e um número inteiro x e rotacione a string x posições para a esquerda. Assuma que a string tem pelo menos x caracteres. Isto é, utilizando como entradas a string “aeiou” e o inteiro 3, o resultado da sua função deve ser “ouaei”."
      ]
    },
    {
      "cell_type": "code",
      "metadata": {
        "id": "LPGq_egb2HmJ",
        "colab": {
          "base_uri": "https://localhost:8080/"
        },
        "outputId": "140d67fa-2cbc-4977-c709-6d9336143c6d"
      },
      "source": [
        "string = input('insira uma palavra com pelo menos 5 letras:')\r\n",
        "posicoes = int(input('quantidade posições a serem rotacionadas na string (palavra): '))\r\n",
        "\r\n",
        "def rotacionar(string,posicoes):\r\n",
        "  string_fatia = string[0:posicoes]\r\n",
        "  string_fatia1 = string[posicoes:]\r\n",
        "  print(f' A substring \"{string_fatia}\" é fatia da string a ser rotacionada por {posicoes} posições à esquerda.')\r\n",
        "  print(f' A substring \"{string_fatia1}\" é fatia da string a ser rotacionada para a direita por {posicoes} posições.')\r\n",
        "  string_result = string_fatia1 + string_fatia\r\n",
        "  print( string_result)\r\n",
        "\r\n",
        "rotacionar(string,posicoes)  "
      ],
      "execution_count": null,
      "outputs": [
        {
          "output_type": "stream",
          "text": [
            "insira uma palavra com 5 letras:aeiou\n",
            "quantidade posições a serem rotacionadas na string (palavra): 3\n",
            " A substring \"aei\" é fatia da string a ser rotacionada por 3 posições à esquerda.\n",
            " A substring \"ou\" é fatia da string a ser rotacionada para a direita por 3 posições.\n",
            "ouaei\n"
          ],
          "name": "stdout"
        }
      ]
    }
  ]
}